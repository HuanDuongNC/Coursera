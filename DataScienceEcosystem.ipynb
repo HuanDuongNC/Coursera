{
 "cells": [
  {
   "cell_type": "code",
   "execution_count": null,
   "id": "57d1a2aa-b616-48ee-aca8-b39276647bb9",
   "metadata": {},
   "outputs": [],
   "source": [
    "# Data Science Tools and Ecosystem #"
   ]
  },
  {
   "cell_type": "markdown",
   "id": "0816c4ad-e10b-4cc8-ad6f-712bd2f92cf7",
   "metadata": {
    "tags": []
   },
   "source": [
    "In this notebook, Data Science and Ecosystem are summarized."
   ]
  },
  {
   "cell_type": "markdown",
   "id": "579cb316-d1e6-46b3-91ff-5fc621603787",
   "metadata": {},
   "source": [
    "Some of the popular languages that Data Scientists use are\n",
    "1. Python\n",
    "2. R\n",
    "3. SQL"
   ]
  },
  {
   "cell_type": "markdown",
   "id": "2abc625a-3b2e-4d3f-9361-70c8e72d0403",
   "metadata": {},
   "source": [
    "Some of the commonly used libraries used by Data Scientists include:\n",
    "1. Pandas\n",
    "2. NumPy\n",
    "3. Mathplotlib\n"
   ]
  },
  {
   "cell_type": "markdown",
   "id": "ff6b76bd-4355-42dd-a2ea-709a3fdf66d7",
   "metadata": {
    "tags": []
   },
   "source": [
    "|Data Science Tools|\n",
    "|------------------|\n",
    "|Jupyter NoteBook|\n",
    "|RStudio|\n",
    "|Apache Zeppelin|\n"
   ]
  },
  {
   "cell_type": "markdown",
   "id": "6e2325f4-8a88-4af7-945b-30f3aeba313f",
   "metadata": {
    "tags": []
   },
   "source": [
    "### Below are a few examples of evaluating arithmetic expression in Python"
   ]
  },
  {
   "cell_type": "code",
   "execution_count": 12,
   "id": "d696ac16-04d1-4a3b-ba9e-eec66f6ac357",
   "metadata": {
    "tags": []
   },
   "outputs": [
    {
     "data": {
      "text/plain": [
       "17"
      ]
     },
     "execution_count": 12,
     "metadata": {},
     "output_type": "execute_result"
    }
   ],
   "source": [
    "# This a simple arithmetic expression to mutiply then add integers\n",
    "(3*4)+5"
   ]
  },
  {
   "cell_type": "code",
   "execution_count": 11,
   "id": "d5238ce3-4a95-4297-8c99-7f362ecf33a7",
   "metadata": {
    "tags": []
   },
   "outputs": [
    {
     "name": "stdout",
     "output_type": "stream",
     "text": [
      "3.3333333333333335\n"
     ]
    }
   ],
   "source": [
    "# This will convert 200 minutes to hours by diving by 60\n",
    "minutes = 200\n",
    "hours = minutes / 60\n",
    "print(hours)"
   ]
  },
  {
   "cell_type": "markdown",
   "id": "d6c3bd9f-e736-42a4-9469-f3e1b1c96d64",
   "metadata": {},
   "source": [
    "**Objectives**\n",
    "- List popular languages for Data Science\n",
    "- List commonly used libraries used by Data Scientists\n",
    "- List Data Science Tools"
   ]
  },
  {
   "cell_type": "markdown",
   "id": "6603e8a5-4790-4cf2-ab00-ed29ebf27854",
   "metadata": {},
   "source": [
    "## Author ##\n",
    "Huan Duong "
   ]
  },
  {
   "cell_type": "code",
   "execution_count": null,
   "id": "85b6dcaf-82de-4082-bf55-ad1235345740",
   "metadata": {},
   "outputs": [],
   "source": []
  }
 ],
 "metadata": {
  "kernelspec": {
   "display_name": "Python",
   "language": "python",
   "name": "conda-env-python-py"
  },
  "language_info": {
   "codemirror_mode": {
    "name": "ipython",
    "version": 3
   },
   "file_extension": ".py",
   "mimetype": "text/x-python",
   "name": "python",
   "nbconvert_exporter": "python",
   "pygments_lexer": "ipython3",
   "version": "3.7.12"
  }
 },
 "nbformat": 4,
 "nbformat_minor": 5
}
